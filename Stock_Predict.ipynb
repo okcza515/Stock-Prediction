{
  "nbformat": 4,
  "nbformat_minor": 0,
  "metadata": {
    "colab": {
      "provenance": [],
      "authorship_tag": "ABX9TyONSQ/6zXf+l01JFhqL01uG",
      "include_colab_link": true
    },
    "kernelspec": {
      "name": "python3",
      "display_name": "Python 3"
    },
    "language_info": {
      "name": "python"
    }
  },
  "cells": [
    {
      "cell_type": "markdown",
      "metadata": {
        "id": "view-in-github",
        "colab_type": "text"
      },
      "source": [
        "<a href=\"https://colab.research.google.com/github/okcza515/Stock-Prediction/blob/main/Stock_Predict.ipynb\" target=\"_parent\"><img src=\"https://colab.research.google.com/assets/colab-badge.svg\" alt=\"Open In Colab\"/></a>"
      ]
    },
    {
      "cell_type": "code",
      "source": [
        "##uncomment the following one, when you need to update something in this cell\n",
        "%%writefile app.py\n",
        "\n",
        "import streamlit as st\n",
        "from datetime import date\n",
        "\n",
        "import yfinance as yf\n",
        "from prophet import Prophet\n",
        "from prophet.plot import plot_plotly\n",
        "from plotly import graph_objs as go\n",
        "from pyngrok import ngrok\n",
        "import time\n",
        "\n",
        "\n",
        "start = \"2015-01-01\"\n",
        "today = date.today().strftime(\"%Y-%m-%d\")\n",
        "\n",
        "st.title(\"Stock Prediction App\")\n",
        "st.subheader(\"By Nutchapong Pramualsap\")\n",
        "\n",
        "selected_stock = \"\"\n",
        "selected_stock = st.text_input(\"Input stock symbol for prediction\")\n",
        "\n",
        "while(selected_stock == \"\"):\n",
        "  #wait loop\n",
        "  time.sleep(0.5)\n",
        "\n",
        "n_years = st.slider(\"number of years to be predicted:\", 1, 5)\n",
        "period = n_years * 365\n",
        "\n",
        "\n",
        "@st.cache_data\n",
        "def load_data(stock):\n",
        "  data = yf.download(stock, start, today)\n",
        "  data.reset_index(inplace =True)\n",
        "  return data\n",
        "\n",
        "data_load_state = st.text(\"Loading data...\")\n",
        "data = load_data(selected_stock)\n",
        "data_load_state.text(\"Loading data completed\")\n",
        "\n",
        "def plot_raw_data():\n",
        "  fig = go.Figure()\n",
        "  fig.add_trace(go.Scatter(x=data['Date'],y=data['Open'],name = 'stock_open', line =dict(color = 'green')))\n",
        "  fig.add_trace(go.Scatter(x=data['Date'],y=data['Close'],name = 'stock_close', line=dict(color= 'red')))\n",
        "  fig.layout.update(title_text=\"Graph of {}\".format(selected_stock.upper()), xaxis_rangeslider_visible=True)\n",
        "\n",
        "  st.plotly_chart(fig)\n",
        "\n",
        "plot_raw_data()\n",
        "\n",
        "df_train = data[['Date','Close']]\n",
        "df_train = df_train.rename(columns={'Date':'ds', 'Close':'y'})\n",
        "\n",
        "st.subheader('Last 5 days information of {}'.format(selected_stock.upper()))\n",
        "st.write(data.tail())\n",
        "\n",
        "model = Prophet()\n",
        "model.fit(df_train)\n",
        "future = model.make_future_dataframe(periods= period)\n",
        "forecast = model.predict(future)\n",
        "\n",
        "st.subheader(\"__________________________________________________\")\n",
        "st.subheader(\"Stock Prediction\")\n",
        "\n",
        "fig1 = plot_plotly(model,forecast)\n",
        "st.plotly_chart(fig1)\n",
        "\n",
        "st.subheader(\"Last 5 days information of {} years prediction\".format(n_years))\n",
        "st.write(forecast.tail())\n",
        "\n",
        "st.subheader('Subgraph Prediction')\n",
        "fig2 = model.plot_components(forecast)\n",
        "st.write(fig2)"
      ],
      "metadata": {
        "id": "UnEb36l0AOEN",
        "colab": {
          "base_uri": "https://localhost:8080/"
        },
        "outputId": "67e439e8-8574-4b12-ae99-029a8ecf8a2f"
      },
      "execution_count": 139,
      "outputs": [
        {
          "output_type": "stream",
          "name": "stdout",
          "text": [
            "Overwriting app.py\n"
          ]
        }
      ]
    },
    {
      "cell_type": "code",
      "source": [
        "#link ngrok on google colab to my ngrok account\n",
        "ngrok.set_auth_token(\"2a7m8MP42tnl1fJ39KzEMiCRUbg_3MCoMShMjPUy1mxjuKZFY\")"
      ],
      "metadata": {
        "id": "IE5Wb-TnBQBE"
      },
      "execution_count": 44,
      "outputs": []
    },
    {
      "cell_type": "code",
      "source": [
        "!nohup streamlit run app.py --server.port 80 &\n",
        "url = ngrok.connect(80)\n",
        "print(url)"
      ],
      "metadata": {
        "colab": {
          "base_uri": "https://localhost:8080/"
        },
        "id": "fMkk5denCQfX",
        "outputId": "341697a8-8639-4c70-d9ac-c1f043eacb64"
      },
      "execution_count": 73,
      "outputs": [
        {
          "output_type": "stream",
          "name": "stdout",
          "text": [
            "nohup: appending output to 'nohup.out'\n",
            "NgrokTunnel: \"https://5e3c-34-125-133-207.ngrok-free.app\" -> \"http://localhost:80\"\n"
          ]
        }
      ]
    },
    {
      "cell_type": "code",
      "source": [],
      "metadata": {
        "id": "rbV4H9eFfUJf"
      },
      "execution_count": null,
      "outputs": []
    }
  ]
}